{
 "cells": [
  {
   "cell_type": "code",
   "execution_count": 10,
   "metadata": {
    "collapsed": false
   },
   "outputs": [],
   "source": [
    "\"\"\"\n",
    "@author: Seve, Andres\n",
    "\n",
    "\"\"\"\n",
    "import json, requests, time, os, pickle\n",
    "import pandas as pd\n",
    "from pandas import DataFrame\n",
    "from pandas import Series\n",
    "import numpy as np\n",
    "\n",
    "import matplotlib\n",
    "matplotlib.use('Agg')\n",
    "from matplotlib import pylab\n",
    "from matplotlib import pyplot as plt\n",
    "\n",
    "#os.chdir(r'C:\\Users\\Seve\\Documents\\learning-to-LoL')\n",
    "# First experiment with making requests\n",
    "\n",
    "# Need a summoner ID. For now I'm just grabbing a random number.\n",
    "guess = 21584654\n",
    "\n",
    "    "
   ]
  },
  {
   "cell_type": "code",
   "execution_count": 12,
   "metadata": {
    "collapsed": false
   },
   "outputs": [],
   "source": [
    "def get_valid_summoner_id(guess=0,key = 'fe3ea9e4-c55c-4726-b71d-178643c29464',region='na'):\n",
    "    bad_id = 1\n",
    "    while bad_id == 1:\n",
    "        if guess == 0:\n",
    "            summoner_id = np.random.randint(2,9999)\n",
    "        else:\n",
    "            summoner_id = guess\n",
    "            \n",
    "        url = 'https://{}.api.pvp.net/api/lol/{}/v1.4/summoner/{}/?api_key={}'.format(region,region,summoner_id,key)\n",
    "        \n",
    "        req = requests.get(url)\n",
    "\n",
    "        if req.status_code == 200:\n",
    "            bad_id = 0\n",
    "        elif req.status_code == 429:\n",
    "            print('Rate limit exceeded!')\n",
    "            break\n",
    "        elif req.status_code == 404:\n",
    "            print('Bad summonerId')\n",
    "        guess = 0\n",
    "    \n",
    "    return summoner_id\n",
    "    "
   ]
  },
  {
   "cell_type": "code",
   "execution_count": 15,
   "metadata": {
    "collapsed": false
   },
   "outputs": [],
   "source": [
    "def get_some_game_data(key = 'fe3ea9e4-c55c-4726-b71d-178643c29464',region='na',game_stats=[],summoner_id = 21584654, time_out=10,out_file='game_stats'):\n",
    "    # Now that we've got some summonerIDs we can really start to make requests\n",
    "    if summoner_id == 0:\n",
    "        summoner_id = [get_valid_summoner_id(key=key, region=region)]\n",
    "        \n",
    "    else:\n",
    "        summoner_id = [summoner_id]\n",
    "    \n",
    "    count = 0    \n",
    "    for sid in summoner_id:\n",
    "        url = 'https://{}.api.pvp.net/api/lol/{}/v1.3/game/by-summoner/{}/recent?api_key={}'.format(region,region,sid,key)\n",
    "        \n",
    "        req = requests.get(url)\n",
    "        \n",
    "        if req.status_code == 200:\n",
    "            content = req.content\n",
    "            game_stats.append(json.loads(content))\n",
    "\n",
    "        else:\n",
    "            print(req.status_code)\n",
    "\n",
    "        for game in game_stats[count]['games']:\n",
    "            if 'fellowPlayers' in game.keys():\n",
    "                for player in game['fellowPlayers']:\n",
    "                    if player['summonerId'] not in summoner_id:\n",
    "                        summoner_id.append(player['summonerId'])\n",
    "                    \n",
    "        time.sleep(1.2)\n",
    "        if count >= time_out:\n",
    "            pickle.dump(game_stats, open('{}.p'.format(out_file),'wb'))\n",
    "            return 1\n",
    "        count = count + 1\n",
    "        \n",
    "  "
   ]
  },
  {
   "cell_type": "code",
   "execution_count": 18,
   "metadata": {
    "collapsed": false
   },
   "outputs": [
    {
     "ename": "NameError",
     "evalue": "name 'game_stats' is not defined",
     "output_type": "error",
     "traceback": [
      "\u001b[0;31m---------------------------------------------------------------------------\u001b[0m",
      "\u001b[0;31mNameError\u001b[0m                                 Traceback (most recent call last)",
      "\u001b[0;32m<ipython-input-18-9e790faa045e>\u001b[0m in \u001b[0;36m<module>\u001b[0;34m()\u001b[0m\n\u001b[1;32m      8\u001b[0m     \u001b[0mgame_list\u001b[0m \u001b[1;33m=\u001b[0m \u001b[1;33m[\u001b[0m\u001b[1;33m]\u001b[0m\u001b[1;33m\u001b[0m\u001b[0m\n\u001b[1;32m      9\u001b[0m \u001b[1;33m\u001b[0m\u001b[0m\n\u001b[0;32m---> 10\u001b[0;31m \u001b[1;32mfor\u001b[0m \u001b[0mgame\u001b[0m \u001b[1;32min\u001b[0m \u001b[0mrange\u001b[0m\u001b[1;33m(\u001b[0m\u001b[0mlen\u001b[0m\u001b[1;33m(\u001b[0m\u001b[0mgame_stats\u001b[0m\u001b[1;33m[\u001b[0m\u001b[1;34m'games'\u001b[0m\u001b[1;33m]\u001b[0m\u001b[1;33m)\u001b[0m\u001b[1;33m)\u001b[0m\u001b[1;33m:\u001b[0m\u001b[1;33m\u001b[0m\u001b[0m\n\u001b[0m\u001b[1;32m     11\u001b[0m     \u001b[0mgame_list\u001b[0m \u001b[1;33m=\u001b[0m \u001b[0mgame_list\u001b[0m \u001b[1;33m+\u001b[0m \u001b[1;33m[\u001b[0m\u001b[1;33m{\u001b[0m\u001b[1;34m'summonerId'\u001b[0m\u001b[1;33m:\u001b[0m \u001b[0mgame_stats\u001b[0m\u001b[1;33m[\u001b[0m\u001b[1;34m'summonerId'\u001b[0m\u001b[1;33m]\u001b[0m\u001b[1;33m}\u001b[0m\u001b[1;33m]\u001b[0m\u001b[1;33m\u001b[0m\u001b[0m\n\u001b[1;32m     12\u001b[0m     \u001b[0mgame_list\u001b[0m\u001b[1;33m[\u001b[0m\u001b[0mgame\u001b[0m\u001b[1;33m]\u001b[0m\u001b[1;33m[\u001b[0m\u001b[1;34m'teamId'\u001b[0m\u001b[1;33m]\u001b[0m \u001b[1;33m=\u001b[0m \u001b[0mgame_stats\u001b[0m\u001b[1;33m[\u001b[0m\u001b[1;34m'games'\u001b[0m\u001b[1;33m]\u001b[0m\u001b[1;33m[\u001b[0m\u001b[0mgame\u001b[0m\u001b[1;33m]\u001b[0m\u001b[1;33m[\u001b[0m\u001b[1;34m'teamId'\u001b[0m\u001b[1;33m]\u001b[0m\u001b[1;33m\u001b[0m\u001b[0m\n",
      "\u001b[0;31mNameError\u001b[0m: name 'game_stats' is not defined"
     ]
    }
   ],
   "source": [
    "    \n",
    "#I want a single instance to be all the stats for a single game...\n",
    "# i.e. I want a list of dicts, each dict will have keys corresponding to every stat in the game.\n",
    "    \n",
    "\n",
    "\n",
    "def get_stats(game_stats):\n",
    "        game_list = []\n",
    "    \n",
    "    for game in range(len(game_stats['games'])):\n",
    "        game_list = game_list + [{'summonerId': game_stats['summonerId']}]\n",
    "        game_list[game]['teamId'] = game_stats['games'][game]['teamId']\n",
    "        for s in game_stats['games'][game].keys():\n",
    "\n",
    "            if s != 'stats' and s != 'fellowPlayers':\n",
    "                game_list[game][s] = game_stats['games'][game][s]\n",
    "            for t in game_stats['games'][game]['stats']:\n",
    "                \n",
    "                game_list[game][t] = game_stats['games'][game]['stats'][t]\n",
    "            if 'fellowPlayers' not in game_stats['games'][game].keys():\n",
    "                game_list[game]['SOLO'] = True \n",
    "                    \n",
    "            else:\n",
    "                ally = 0\n",
    "                foe = 0\n",
    "                game_list[game]['SOLO'] = False  \n",
    "                for t in range(len(game_stats['games'][game]['fellowPlayers'])):\n",
    "                    if game_stats['games'][game]['fellowPlayers'][t]['teamId'] == game_list[game]['teamId']:\n",
    "                    \n",
    "                        game_list[game]['ally{}_summonerId'.format(ally)] = game_stats['games'][game]['fellowPlayers'][t]['summonerId'] \n",
    "                        game_list[game]['ally{}_championId'.format(ally)] = game_stats['games'][game]['fellowPlayers'][t]['championId'] \n",
    "                        ally = ally + 1\n",
    "                    else:\n",
    "                        game_list[game]['foe{}_summonerId'.format(foe)] = game_stats['games'][game]['fellowPlayers'][t]['summonerId']\n",
    "                        game_list[game]['foe{}_championId'.format(foe)] = game_stats['games'][game]['fellowPlayers'][t]['championId']\n",
    "                        foe = foe + 1\n",
    "                    \n",
    "        \n",
    "    return game_list\n",
    "  "
   ]
  },
  {
   "cell_type": "code",
   "execution_count": 20,
   "metadata": {
    "collapsed": true
   },
   "outputs": [],
   "source": [
    "def get_champ_deaths_by_foe(df,save_plot=0,save_dir = r'C:\\Users\\Seve\\Documents\\learning-to-LoL\\figures\\champ_deaths_by_foe'):\n",
    "    if not os.path.isdir(save_dir):\n",
    "        os.makedirs(save_dir)\n",
    "    os.chdir(save_dir)\n",
    "    champ_list = Series(df.championId).dropna().unique()\n",
    "    foe_list = Series(df[['foe0_championId', 'foe1_championId', 'foe2_championId', 'foe3_championId', 'foe4_championId']].values.ravel()).dropna().unique()\n",
    "    champ_deaths_by_foe = DataFrame(index = champ_list, columns = foe_list)\n",
    "    \n",
    "    for champ in champ_list:\n",
    "        champ_deaths_by_foe.ix[champ] = (df.ix[df.championId==champ].numDeaths.groupby(df['foe0_championId']).mean() + df.ix[df.championId==champ].numDeaths.groupby(df['foe1_championId']).mean() + df.ix[df.championId==champ].numDeaths.groupby(df['foe2_championId']).mean() + df.ix[df.championId==champ].numDeaths.groupby(df['foe3_championId']).mean() + df.ix[df.championId==champ].numDeaths.groupby(df['foe4_championId']).mean())/5.0\n",
    "        \n",
    "        if save_plot:\n",
    "            fig = plt.figure()\n",
    "            plt.bar(range(len(foe_list)), champ_deaths_by_foe.ix[champ])\n",
    "            plt.title('champID: {} deaths by foe'.format(champ))\n",
    "            plt.xticks(range(len(foe_list)), foe_list)\n",
    "            #champ_deaths_by_foe.ix[champ].plot(kind='bar', title='champID: {} deaths by foe'.format(champ))\n",
    "            plt.tight_layout()\n",
    "            pylab.savefig('champ{}DeathsByFoe.png'.format(champ))\n",
    "            plt.close(fig)\n",
    "            \n",
    "    return champ_deaths_by_foe\n",
    "    "
   ]
  },
  {
   "cell_type": "code",
   "execution_count": 21,
   "metadata": {
    "collapsed": false
   },
   "outputs": [
    {
     "ename": "FileNotFoundError",
     "evalue": "[Errno 2] No such file or directory: 'game_list_0.p'",
     "output_type": "error",
     "traceback": [
      "\u001b[0;31m---------------------------------------------------------------------------\u001b[0m",
      "\u001b[0;31mFileNotFoundError\u001b[0m                         Traceback (most recent call last)",
      "\u001b[0;32m<ipython-input-21-f016f16632be>\u001b[0m in \u001b[0;36m<module>\u001b[0;34m()\u001b[0m\n\u001b[0;32m----> 1\u001b[0;31m \u001b[0mgame_list\u001b[0m \u001b[1;33m=\u001b[0m \u001b[0mpickle\u001b[0m\u001b[1;33m.\u001b[0m\u001b[0mload\u001b[0m\u001b[1;33m(\u001b[0m\u001b[0mopen\u001b[0m\u001b[1;33m(\u001b[0m\u001b[1;34m'game_list_0.p'\u001b[0m\u001b[1;33m)\u001b[0m\u001b[1;33m)\u001b[0m\u001b[1;33m\u001b[0m\u001b[0m\n\u001b[0m\u001b[1;32m      2\u001b[0m \u001b[0mdf\u001b[0m \u001b[1;33m=\u001b[0m \u001b[0mDataFrame\u001b[0m\u001b[1;33m(\u001b[0m\u001b[0mgame_list\u001b[0m\u001b[1;33m)\u001b[0m\u001b[1;33m\u001b[0m\u001b[0m\n\u001b[1;32m      3\u001b[0m \u001b[1;33m\u001b[0m\u001b[0m\n\u001b[1;32m      4\u001b[0m \u001b[0mcdbf\u001b[0m \u001b[1;33m=\u001b[0m \u001b[0mget_champ_deaths_by_foe\u001b[0m\u001b[1;33m(\u001b[0m\u001b[0mdf\u001b[0m\u001b[1;33m=\u001b[0m\u001b[0mdf\u001b[0m\u001b[1;33m,\u001b[0m\u001b[0msave_plot\u001b[0m\u001b[1;33m=\u001b[0m\u001b[1;36m1\u001b[0m\u001b[1;33m)\u001b[0m\u001b[1;33m\u001b[0m\u001b[0m\n\u001b[1;32m      5\u001b[0m \u001b[1;31m#death_df = DataFrame(game_list, columns=['championId', 'numDeaths', 'foe0_championId', 'foe1_championId', 'foe2_championId', 'foe3_championId', 'foe4_championId'])\u001b[0m\u001b[1;33m\u001b[0m\u001b[1;33m\u001b[0m\u001b[0m\n",
      "\u001b[0;31mFileNotFoundError\u001b[0m: [Errno 2] No such file or directory: 'game_list_0.p'"
     ]
    }
   ],
   "source": [
    "game_list = pickle.load(open('game_list_0.p'))\n",
    "df = DataFrame(game_list)\n",
    "\n",
    "cdbf = get_champ_deaths_by_foe(df=df,save_plot=1)\n",
    "#death_df = DataFrame(game_list, columns=['championId', 'numDeaths', 'foe0_championId', 'foe1_championId', 'foe2_championId', 'foe3_championId', 'foe4_championId'])\n",
    "#\n",
    "#death_df = death_df.drop_duplicates()\n",
    "#champ_list = Series(death_df.championId).dropna().unique()\n",
    "#foe_list = Series(df[['foe0_championId', 'foe1_championId', 'foe2_championId', 'foe3_championId', 'foe4_championId']].values.ravel()).dropna().unique()\n",
    "#\n",
    "#mean_deaths_by_champ = death_df.numDeaths.groupby(death_df['championId']).mean()\n",
    "#mean_deaths_by_champ.plot(kind='bar')\n",
    "#\n",
    "#mean_kills_by_champ = df.championsKilled.groupby(df.championId).mean()\n",
    "#mean_kills_by_champ.plot(kind='bar')\n",
    "#\n",
    "#mean_kd_ratio = mean_kills_by_champ/mean_deaths_by_champ\n",
    "#mean_kd_ratio.plot(kind='bar')"
   ]
  }
 ],
 "metadata": {
  "kernelspec": {
   "display_name": "Python 3",
   "language": "python",
   "name": "python3"
  },
  "language_info": {
   "codemirror_mode": {
    "name": "ipython",
    "version": 3
   },
   "file_extension": ".py",
   "mimetype": "text/x-python",
   "name": "python",
   "nbconvert_exporter": "python",
   "pygments_lexer": "ipython3",
   "version": "3.6.0"
  }
 },
 "nbformat": 4,
 "nbformat_minor": 2
}
